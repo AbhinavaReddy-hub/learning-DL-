{
 "cells": [
  {
   "cell_type": "code",
   "execution_count": 20,
   "id": "20f00ef0-cce5-4e87-98d1-41f95868b9d6",
   "metadata": {},
   "outputs": [],
   "source": [
    "import torch\n",
    "import torch.nn as nn\n",
    "import torch.optim as optim"
   ]
  },
  {
   "cell_type": "code",
   "execution_count": 28,
   "id": "f3b2d8e5-23d3-4920-985a-7ad9fa67fd5e",
   "metadata": {},
   "outputs": [],
   "source": [
    "# Generate synthetic binary classification data\n",
    "X = torch.tensor([[0,0], [1,1], [0,1], [1,0]], dtype=torch.float32)\n",
    "y = torch.tensor([[0], [0], [1], [1]], dtype=torch.float32)  # Binary labels"
   ]
  },
  {
   "cell_type": "code",
   "execution_count": 32,
   "id": "b0d72c86-3f74-47d1-825e-35ad4a3d112d",
   "metadata": {},
   "outputs": [],
   "source": [
    "\n",
    "# Define the neural network\n",
    "class BinaryClassifier(nn.Module):\n",
    "    def __init__(self):\n",
    "        super(BinaryClassifier, self).__init__()\n",
    "        self.fc1 = nn.Linear(2, 5)  # 2 input features → 5 hidden neurons\n",
    "        self.fc2 = nn.Linear(5, 1)  # 5 hidden neurons → 1 output (binary classification)\n",
    "        self.relu = nn.ReLU()  # ReLU activation\n",
    "        self.sigmoid = nn.Sigmoid()  # Sigmoid activation for binary output\n",
    "\n",
    "    def forward(self, x):\n",
    "        x = self.relu(self.fc1(x))  # Apply activation after the first layer\n",
    "        x = self.fc2(x)\n",
    "        # print(\"before sigmoid:\",x)# Output layer\n",
    "        x = self.sigmoid(x) \n",
    "        # print(\"after sigmoid:\",x)# Output layer\n",
    "        # Apply Sigmoid to get probability between 0 and 1\n",
    "        return x"
   ]
  },
  {
   "cell_type": "code",
   "execution_count": 33,
   "id": "a7efc668-5813-4e24-8b61-1548a089e6e4",
   "metadata": {},
   "outputs": [],
   "source": [
    "# Initialize the model, loss function, and optimizer\n",
    "model = BinaryClassifier()\n",
    "criterion = nn.BCELoss()  # Binary Cross-Entropy loss\n",
    "optimizer = optim.SGD(model.parameters(), lr=0.01)"
   ]
  },
  {
   "cell_type": "code",
   "execution_count": 41,
   "id": "76cb72b0-b8b2-41e3-bcc2-23183e137997",
   "metadata": {},
   "outputs": [
    {
     "name": "stdout",
     "output_type": "stream",
     "text": [
      "Epoch 0, Loss: 0.05923396721482277\n",
      "Epoch 100, Loss: 0.05777634680271149\n",
      "Epoch 200, Loss: 0.05633118748664856\n",
      "Epoch 300, Loss: 0.055022239685058594\n",
      "Epoch 400, Loss: 0.05374510586261749\n",
      "Epoch 500, Loss: 0.05249389261007309\n",
      "Epoch 600, Loss: 0.051276154816150665\n",
      "Epoch 700, Loss: 0.05015446990728378\n",
      "Epoch 800, Loss: 0.04902659356594086\n",
      "Epoch 900, Loss: 0.04800504446029663\n",
      "Predicted Probability for Class 1: 0.025936665013432503\n"
     ]
    }
   ],
   "source": [
    "# Training loop\n",
    "for epoch in range(1000):\n",
    "    model.train()\n",
    "    optimizer.zero_grad()  # Zero the gradients\n",
    "    \n",
    "    # Forward pass\n",
    "    predictions = model(X)\n",
    "    loss = criterion(predictions, y)\n",
    "    \n",
    "    # Backward pass\n",
    "    loss.backward()\n",
    "    optimizer.step()\n",
    "    \n",
    "    if epoch % 100 == 0:\n",
    "        print(f\"Epoch {epoch}, Loss: {loss.item()}\")\n",
    "\n",
    "# Test the model\n",
    "model.eval()\n",
    "new_data = torch.tensor([[1,1]], dtype=torch.float32)\n",
    "output = model(new_data)\n",
    "print(f\"Predicted Probability for Class 1: {output.item()}\")"
   ]
  },
  {
   "cell_type": "code",
   "execution_count": null,
   "id": "bc809e14-03cf-4cff-a402-272b782624e6",
   "metadata": {},
   "outputs": [],
   "source": []
  }
 ],
 "metadata": {
  "kernelspec": {
   "display_name": "Python 3 (ipykernel)",
   "language": "python",
   "name": "python3"
  },
  "language_info": {
   "codemirror_mode": {
    "name": "ipython",
    "version": 3
   },
   "file_extension": ".py",
   "mimetype": "text/x-python",
   "name": "python",
   "nbconvert_exporter": "python",
   "pygments_lexer": "ipython3",
   "version": "3.12.2"
  }
 },
 "nbformat": 4,
 "nbformat_minor": 5
}
