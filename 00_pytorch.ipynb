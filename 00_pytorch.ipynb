{
  "nbformat": 4,
  "nbformat_minor": 0,
  "metadata": {
    "colab": {
      "provenance": [],
      "authorship_tag": "ABX9TyMUET5bClXNuKtEnVPx5tZe",
      "include_colab_link": true
    },
    "kernelspec": {
      "name": "python3",
      "display_name": "Python 3"
    },
    "language_info": {
      "name": "python"
    }
  },
  "cells": [
    {
      "cell_type": "markdown",
      "metadata": {
        "id": "view-in-github",
        "colab_type": "text"
      },
      "source": [
        "<a href=\"https://colab.research.google.com/github/AbhinavaReddy-hub/learning-DL-/blob/main/00_pytorch.ipynb\" target=\"_parent\"><img src=\"https://colab.research.google.com/assets/colab-badge.svg\" alt=\"Open In Colab\"/></a>"
      ]
    },
    {
      "cell_type": "code",
      "execution_count": null,
      "metadata": {
        "colab": {
          "base_uri": "https://localhost:8080/"
        },
        "id": "llZu9w8b7nkV",
        "outputId": "e4868077-3c91-4bf6-ca86-55af08ea1750"
      },
      "outputs": [
        {
          "output_type": "stream",
          "name": "stdout",
          "text": [
            "hello\n"
          ]
        }
      ],
      "source": [
        "print(\"hello\")"
      ]
    },
    {
      "cell_type": "code",
      "source": [
        "import torch\n",
        "import pandas as pd\n",
        "import numpy as np\n",
        "import matplotlib.pyplot as plt\n",
        "print(torch.__version__)"
      ],
      "metadata": {
        "colab": {
          "base_uri": "https://localhost:8080/"
        },
        "id": "Su4T4Mzx70ZA",
        "outputId": "478234a7-27c3-428c-90ae-c9742e6d05be"
      },
      "execution_count": null,
      "outputs": [
        {
          "output_type": "stream",
          "name": "stdout",
          "text": [
            "2.5.1+cu121\n"
          ]
        }
      ]
    },
    {
      "cell_type": "code",
      "source": [
        "scaler=torch.tensor(3)\n",
        "scaler"
      ],
      "metadata": {
        "colab": {
          "base_uri": "https://localhost:8080/"
        },
        "id": "tM6Jgzy-9ihQ",
        "outputId": "768bd726-d732-4c08-84aa-b4f9db726d27"
      },
      "execution_count": null,
      "outputs": [
        {
          "output_type": "execute_result",
          "data": {
            "text/plain": [
              "tensor(3)"
            ]
          },
          "metadata": {},
          "execution_count": 3
        }
      ]
    },
    {
      "cell_type": "code",
      "source": [
        "scaler.ndim"
      ],
      "metadata": {
        "colab": {
          "base_uri": "https://localhost:8080/"
        },
        "id": "QV7WgT68CRNx",
        "outputId": "55642f3e-b84c-4118-e3e7-b2c13fb42d31"
      },
      "execution_count": null,
      "outputs": [
        {
          "output_type": "execute_result",
          "data": {
            "text/plain": [
              "0"
            ]
          },
          "metadata": {},
          "execution_count": 4
        }
      ]
    },
    {
      "cell_type": "code",
      "source": [
        "scaler.shape"
      ],
      "metadata": {
        "colab": {
          "base_uri": "https://localhost:8080/"
        },
        "id": "J23RwFJBCUUg",
        "outputId": "37e93bf4-c82d-40f3-b14f-2cebcffc9a14"
      },
      "execution_count": null,
      "outputs": [
        {
          "output_type": "execute_result",
          "data": {
            "text/plain": [
              "torch.Size([])"
            ]
          },
          "metadata": {},
          "execution_count": 5
        }
      ]
    },
    {
      "cell_type": "code",
      "source": [
        "vector=torch.tensor([1,2,3,4,5,6])"
      ],
      "metadata": {
        "id": "p-q0PNYZCXow"
      },
      "execution_count": null,
      "outputs": []
    },
    {
      "cell_type": "code",
      "source": [
        "vector.ndim"
      ],
      "metadata": {
        "colab": {
          "base_uri": "https://localhost:8080/"
        },
        "id": "diROjjnXCezY",
        "outputId": "a70185d0-fe57-40b1-d87a-683c46d7f285"
      },
      "execution_count": null,
      "outputs": [
        {
          "output_type": "execute_result",
          "data": {
            "text/plain": [
              "1"
            ]
          },
          "metadata": {},
          "execution_count": 7
        }
      ]
    },
    {
      "cell_type": "code",
      "source": [
        "vector.shape"
      ],
      "metadata": {
        "colab": {
          "base_uri": "https://localhost:8080/"
        },
        "id": "jaCd0CsKCjcY",
        "outputId": "f27728d9-72b2-4346-b296-f71d6b5ede10"
      },
      "execution_count": null,
      "outputs": [
        {
          "output_type": "execute_result",
          "data": {
            "text/plain": [
              "torch.Size([6])"
            ]
          },
          "metadata": {},
          "execution_count": 8
        }
      ]
    },
    {
      "cell_type": "code",
      "source": [
        "MATRIX=torch.tensor([[1,2,3,4,5,6,],\n",
        "                     [7,8,9,10,11,12]])"
      ],
      "metadata": {
        "id": "ABl_4wKDClHw"
      },
      "execution_count": null,
      "outputs": []
    },
    {
      "cell_type": "code",
      "source": [
        "MATRIX.ndim"
      ],
      "metadata": {
        "colab": {
          "base_uri": "https://localhost:8080/"
        },
        "id": "dhNbdUmjDAmX",
        "outputId": "060cb2ba-8146-48ec-d5e1-1e3aa40ac828"
      },
      "execution_count": null,
      "outputs": [
        {
          "output_type": "execute_result",
          "data": {
            "text/plain": [
              "2"
            ]
          },
          "metadata": {},
          "execution_count": 10
        }
      ]
    },
    {
      "cell_type": "code",
      "source": [
        "MATRIX.shape"
      ],
      "metadata": {
        "colab": {
          "base_uri": "https://localhost:8080/"
        },
        "id": "4h-U_g2vDDHx",
        "outputId": "9eb83fa4-85cd-4852-e77f-ebc0737fb68f"
      },
      "execution_count": null,
      "outputs": [
        {
          "output_type": "execute_result",
          "data": {
            "text/plain": [
              "torch.Size([2, 6])"
            ]
          },
          "metadata": {},
          "execution_count": 11
        }
      ]
    },
    {
      "cell_type": "code",
      "source": [
        "TENSOR=torch.tensor([[[1,2,3,4,5,6,],\n",
        "                     [7,8,9,10,11,12]]])\n"
      ],
      "metadata": {
        "id": "jlliylUiDJAY"
      },
      "execution_count": null,
      "outputs": []
    },
    {
      "cell_type": "code",
      "source": [
        "TENSOR.ndim"
      ],
      "metadata": {
        "colab": {
          "base_uri": "https://localhost:8080/"
        },
        "id": "Lepi3pNGD1Ef",
        "outputId": "c03cac9f-84f0-4dd0-9c43-2dba7e40135c"
      },
      "execution_count": null,
      "outputs": [
        {
          "output_type": "execute_result",
          "data": {
            "text/plain": [
              "3"
            ]
          },
          "metadata": {},
          "execution_count": 13
        }
      ]
    },
    {
      "cell_type": "code",
      "source": [
        "TENSOR.shape"
      ],
      "metadata": {
        "colab": {
          "base_uri": "https://localhost:8080/"
        },
        "id": "9NfGbeYCD4uX",
        "outputId": "3ac374f1-7633-4551-bbb8-652fef17565a"
      },
      "execution_count": null,
      "outputs": [
        {
          "output_type": "execute_result",
          "data": {
            "text/plain": [
              "torch.Size([1, 2, 6])"
            ]
          },
          "metadata": {},
          "execution_count": 14
        }
      ]
    },
    {
      "cell_type": "code",
      "source": [
        "random_tensor=torch.rand(3,4)\n",
        "random_tensor"
      ],
      "metadata": {
        "colab": {
          "base_uri": "https://localhost:8080/"
        },
        "id": "Fc7vNa5YD6RQ",
        "outputId": "fcdfa288-8cca-464a-d9c6-d314b5bf661d"
      },
      "execution_count": null,
      "outputs": [
        {
          "output_type": "execute_result",
          "data": {
            "text/plain": [
              "tensor([[0.5650, 0.0360, 0.7348, 0.7110],\n",
              "        [0.3334, 0.6907, 0.2688, 0.9362],\n",
              "        [0.4600, 0.6753, 0.3873, 0.4323]])"
            ]
          },
          "metadata": {},
          "execution_count": 15
        }
      ]
    },
    {
      "cell_type": "code",
      "source": [
        "ZEROS=torch.zeros(3,3)\n",
        "ZEROS"
      ],
      "metadata": {
        "colab": {
          "base_uri": "https://localhost:8080/"
        },
        "id": "xJ27n0VXFgoo",
        "outputId": "e49222ef-0eb4-4f11-d9c7-ca56b11dc479"
      },
      "execution_count": null,
      "outputs": [
        {
          "output_type": "execute_result",
          "data": {
            "text/plain": [
              "tensor([[0., 0., 0.],\n",
              "        [0., 0., 0.],\n",
              "        [0., 0., 0.]])"
            ]
          },
          "metadata": {},
          "execution_count": 16
        }
      ]
    },
    {
      "cell_type": "code",
      "source": [
        "ONES=torch.ones(3,3)\n",
        "ONES"
      ],
      "metadata": {
        "colab": {
          "base_uri": "https://localhost:8080/"
        },
        "id": "ne3tvnDcHvuI",
        "outputId": "cab9f8f2-67d0-4ca8-bf63-d4aef8657fab"
      },
      "execution_count": null,
      "outputs": [
        {
          "output_type": "execute_result",
          "data": {
            "text/plain": [
              "tensor([[1., 1., 1.],\n",
              "        [1., 1., 1.],\n",
              "        [1., 1., 1.]])"
            ]
          },
          "metadata": {},
          "execution_count": 17
        }
      ]
    },
    {
      "cell_type": "code",
      "source": [
        "ONES.dtype"
      ],
      "metadata": {
        "colab": {
          "base_uri": "https://localhost:8080/"
        },
        "id": "oh1GQGsWH1cA",
        "outputId": "5cd9f78b-5b18-47c2-b1d4-e20ba3daa6fd"
      },
      "execution_count": null,
      "outputs": [
        {
          "output_type": "execute_result",
          "data": {
            "text/plain": [
              "torch.float32"
            ]
          },
          "metadata": {},
          "execution_count": 18
        }
      ]
    },
    {
      "cell_type": "code",
      "source": [
        "a=torch.arange(10)\n",
        "a"
      ],
      "metadata": {
        "colab": {
          "base_uri": "https://localhost:8080/"
        },
        "id": "4meILjuvH8Dg",
        "outputId": "849a7ccd-f529-45d9-d7c2-6e650caeb926"
      },
      "execution_count": null,
      "outputs": [
        {
          "output_type": "execute_result",
          "data": {
            "text/plain": [
              "tensor([0, 1, 2, 3, 4, 5, 6, 7, 8, 9])"
            ]
          },
          "metadata": {},
          "execution_count": 19
        }
      ]
    },
    {
      "cell_type": "code",
      "source": [
        "a=torch.arange(1,10,2)\n",
        "a"
      ],
      "metadata": {
        "colab": {
          "base_uri": "https://localhost:8080/"
        },
        "id": "COLnLSv_IrB5",
        "outputId": "5a9b6d5f-0d28-4a93-c1f3-daad9cad481b"
      },
      "execution_count": null,
      "outputs": [
        {
          "output_type": "execute_result",
          "data": {
            "text/plain": [
              "tensor([1, 3, 5, 7, 9])"
            ]
          },
          "metadata": {},
          "execution_count": 20
        }
      ]
    },
    {
      "cell_type": "code",
      "source": [
        "a=torch.arange(4,18)\n",
        "a"
      ],
      "metadata": {
        "colab": {
          "base_uri": "https://localhost:8080/"
        },
        "id": "s1v6JXF1IyPY",
        "outputId": "68fd8528-f32e-468d-b3f0-c6d7a93e1d5e"
      },
      "execution_count": null,
      "outputs": [
        {
          "output_type": "execute_result",
          "data": {
            "text/plain": [
              "tensor([ 4,  5,  6,  7,  8,  9, 10, 11, 12, 13, 14, 15, 16, 17])"
            ]
          },
          "metadata": {},
          "execution_count": 21
        }
      ]
    },
    {
      "cell_type": "code",
      "source": [
        "b=torch.zeros_like(a)\n",
        "b"
      ],
      "metadata": {
        "colab": {
          "base_uri": "https://localhost:8080/"
        },
        "id": "nMOYeREMI7OQ",
        "outputId": "5ec252bf-185e-4ffa-e0cc-6416a492fab8"
      },
      "execution_count": null,
      "outputs": [
        {
          "output_type": "execute_result",
          "data": {
            "text/plain": [
              "tensor([0, 0, 0, 0, 0, 0, 0, 0, 0, 0, 0, 0, 0, 0])"
            ]
          },
          "metadata": {},
          "execution_count": 22
        }
      ]
    },
    {
      "cell_type": "code",
      "source": [
        "float32_tensor=torch.tensor([3.0,6.0,9.0],dtype=None,device=None,requires_grad=False)\n",
        "float32_tensor"
      ],
      "metadata": {
        "colab": {
          "base_uri": "https://localhost:8080/"
        },
        "id": "iIqfPmlCJnTo",
        "outputId": "c0823933-330a-4bf1-9ec3-6d6155f5f7f4"
      },
      "execution_count": null,
      "outputs": [
        {
          "output_type": "execute_result",
          "data": {
            "text/plain": [
              "tensor([3., 6., 9.])"
            ]
          },
          "metadata": {},
          "execution_count": 23
        }
      ]
    },
    {
      "cell_type": "code",
      "source": [
        "float16_tensor=float32_tensor.type(torch.float16)\n",
        "float16_tensor"
      ],
      "metadata": {
        "colab": {
          "base_uri": "https://localhost:8080/"
        },
        "id": "VLVqV8-5cpVS",
        "outputId": "e16095f8-7c27-4cd7-9efa-44ddca246c48"
      },
      "execution_count": null,
      "outputs": [
        {
          "output_type": "execute_result",
          "data": {
            "text/plain": [
              "tensor([3., 6., 9.], dtype=torch.float16)"
            ]
          },
          "metadata": {},
          "execution_count": 24
        }
      ]
    },
    {
      "cell_type": "code",
      "source": [
        "float32_tensor*float16_tensor"
      ],
      "metadata": {
        "colab": {
          "base_uri": "https://localhost:8080/"
        },
        "id": "2a0UX_lmdwF8",
        "outputId": "33b60524-3f67-4207-a988-39ee6dc17b5e"
      },
      "execution_count": null,
      "outputs": [
        {
          "output_type": "execute_result",
          "data": {
            "text/plain": [
              "tensor([ 9., 36., 81.])"
            ]
          },
          "metadata": {},
          "execution_count": 25
        }
      ]
    },
    {
      "cell_type": "code",
      "source": [
        "print(float32_tensor.dtype)\n",
        "print(float32_tensor.device)\n",
        "print(float32_tensor.shape)"
      ],
      "metadata": {
        "colab": {
          "base_uri": "https://localhost:8080/"
        },
        "id": "z2wUvg8eeKgD",
        "outputId": "1f0c42a1-c964-4664-e56f-216e8f3d9737"
      },
      "execution_count": null,
      "outputs": [
        {
          "output_type": "stream",
          "name": "stdout",
          "text": [
            "torch.float32\n",
            "cpu\n",
            "torch.Size([3])\n"
          ]
        }
      ]
    },
    {
      "cell_type": "code",
      "source": [
        "tensor=torch.rand(16).reshape(4,4)*10\n",
        "tensor=tensor.type(torch.int32)\n",
        "tensor"
      ],
      "metadata": {
        "colab": {
          "base_uri": "https://localhost:8080/"
        },
        "id": "AOWtQE5ChalD",
        "outputId": "0d09e6a9-b49c-4c61-c656-bbe6dd6059ec"
      },
      "execution_count": null,
      "outputs": [
        {
          "output_type": "execute_result",
          "data": {
            "text/plain": [
              "tensor([[1, 7, 7, 7],\n",
              "        [5, 0, 6, 3],\n",
              "        [4, 6, 2, 6],\n",
              "        [0, 2, 5, 8]], dtype=torch.int32)"
            ]
          },
          "metadata": {},
          "execution_count": 27
        }
      ]
    },
    {
      "cell_type": "code",
      "source": [
        "print(tensor*tensor)"
      ],
      "metadata": {
        "colab": {
          "base_uri": "https://localhost:8080/"
        },
        "id": "sZ5h48mpji5i",
        "outputId": "170c48a1-a07d-481e-8540-11b6bd576332"
      },
      "execution_count": null,
      "outputs": [
        {
          "output_type": "stream",
          "name": "stdout",
          "text": [
            "tensor([[ 1, 49, 49, 49],\n",
            "        [25,  0, 36,  9],\n",
            "        [16, 36,  4, 36],\n",
            "        [ 0,  4, 25, 64]], dtype=torch.int32)\n"
          ]
        }
      ]
    },
    {
      "cell_type": "code",
      "source": [
        "print(torch.matmul(tensor,tensor))"
      ],
      "metadata": {
        "colab": {
          "base_uri": "https://localhost:8080/"
        },
        "id": "BaFH6v4ejuBC",
        "outputId": "fbd07e9c-af65-44ee-da8c-a9b23eaf2324"
      },
      "execution_count": null,
      "outputs": [
        {
          "output_type": "stream",
          "name": "stdout",
          "text": [
            "tensor([[ 64,  63,  98, 126],\n",
            "        [ 29,  77,  62,  95],\n",
            "        [ 42,  52,  98, 106],\n",
            "        [ 30,  46,  62, 100]], dtype=torch.int32)\n"
          ]
        }
      ]
    },
    {
      "cell_type": "code",
      "source": [
        "tensor@tensor"
      ],
      "metadata": {
        "colab": {
          "base_uri": "https://localhost:8080/"
        },
        "id": "e1CUuDNij4pr",
        "outputId": "b7c67305-c50d-4434-942f-f493a9bd2e0c"
      },
      "execution_count": null,
      "outputs": [
        {
          "output_type": "execute_result",
          "data": {
            "text/plain": [
              "tensor([[ 64,  63,  98, 126],\n",
              "        [ 29,  77,  62,  95],\n",
              "        [ 42,  52,  98, 106],\n",
              "        [ 30,  46,  62, 100]], dtype=torch.int32)"
            ]
          },
          "metadata": {},
          "execution_count": 30
        }
      ]
    },
    {
      "cell_type": "code",
      "source": [
        "torch.mm(tensor,tensor)"
      ],
      "metadata": {
        "colab": {
          "base_uri": "https://localhost:8080/"
        },
        "id": "CtMnjjvvlGab",
        "outputId": "80dcb610-17d7-4740-c6a9-7c62fcbd815e"
      },
      "execution_count": null,
      "outputs": [
        {
          "output_type": "execute_result",
          "data": {
            "text/plain": [
              "tensor([[ 64,  63,  98, 126],\n",
              "        [ 29,  77,  62,  95],\n",
              "        [ 42,  52,  98, 106],\n",
              "        [ 30,  46,  62, 100]], dtype=torch.int32)"
            ]
          },
          "metadata": {},
          "execution_count": 31
        }
      ]
    },
    {
      "cell_type": "code",
      "source": [
        "tensor.max()"
      ],
      "metadata": {
        "colab": {
          "base_uri": "https://localhost:8080/"
        },
        "id": "Prgp0OUJl9TD",
        "outputId": "d499b3a8-d4a8-4c69-f3d3-c159e338b364"
      },
      "execution_count": null,
      "outputs": [
        {
          "output_type": "execute_result",
          "data": {
            "text/plain": [
              "tensor(8, dtype=torch.int32)"
            ]
          },
          "metadata": {},
          "execution_count": 32
        }
      ]
    },
    {
      "cell_type": "code",
      "source": [
        "tensor.argmax()"
      ],
      "metadata": {
        "colab": {
          "base_uri": "https://localhost:8080/"
        },
        "id": "nhr0L1pGFQ64",
        "outputId": "a2d2ff56-01bb-4f41-c196-5fd9460a9d9f"
      },
      "execution_count": null,
      "outputs": [
        {
          "output_type": "execute_result",
          "data": {
            "text/plain": [
              "tensor(15)"
            ]
          },
          "metadata": {},
          "execution_count": 33
        }
      ]
    },
    {
      "cell_type": "code",
      "source": [
        "x=torch.arange(1,10)\n",
        "x.dtype"
      ],
      "metadata": {
        "colab": {
          "base_uri": "https://localhost:8080/"
        },
        "id": "MsedI-tUFpeI",
        "outputId": "d1b8b529-56f9-48b2-f623-fdf8c629fe2c"
      },
      "execution_count": null,
      "outputs": [
        {
          "output_type": "execute_result",
          "data": {
            "text/plain": [
              "torch.int64"
            ]
          },
          "metadata": {},
          "execution_count": 34
        }
      ]
    },
    {
      "cell_type": "code",
      "source": [
        "x_stack=torch.stack([torch.zeros_like(x),x,x,x,torch.zeros_like(x)],dim=1)\n",
        "x_stack,x"
      ],
      "metadata": {
        "colab": {
          "base_uri": "https://localhost:8080/"
        },
        "id": "iy1yAULXHSvw",
        "outputId": "cde90e08-6f75-4bc0-e8ca-f9b7916d2175"
      },
      "execution_count": null,
      "outputs": [
        {
          "output_type": "execute_result",
          "data": {
            "text/plain": [
              "(tensor([[0, 1, 1, 1, 0],\n",
              "         [0, 2, 2, 2, 0],\n",
              "         [0, 3, 3, 3, 0],\n",
              "         [0, 4, 4, 4, 0],\n",
              "         [0, 5, 5, 5, 0],\n",
              "         [0, 6, 6, 6, 0],\n",
              "         [0, 7, 7, 7, 0],\n",
              "         [0, 8, 8, 8, 0],\n",
              "         [0, 9, 9, 9, 0]]),\n",
              " tensor([1, 2, 3, 4, 5, 6, 7, 8, 9]))"
            ]
          },
          "metadata": {},
          "execution_count": 35
        }
      ]
    },
    {
      "cell_type": "code",
      "source": [
        "tensor=torch.rand(3,1,2,1,4)\n",
        "tensor,tensor.shape"
      ],
      "metadata": {
        "colab": {
          "base_uri": "https://localhost:8080/"
        },
        "id": "dS6vLgZiIr7h",
        "outputId": "1090a5c0-424a-4bb7-8aae-b69dec849182"
      },
      "execution_count": null,
      "outputs": [
        {
          "output_type": "execute_result",
          "data": {
            "text/plain": [
              "(tensor([[[[[0.5407, 0.0467, 0.4663, 0.0806]],\n",
              " \n",
              "           [[0.6251, 0.9482, 0.8743, 0.4152]]]],\n",
              " \n",
              " \n",
              " \n",
              "         [[[[0.0847, 0.4324, 0.8931, 0.0145]],\n",
              " \n",
              "           [[0.3586, 0.2297, 0.1459, 0.2872]]]],\n",
              " \n",
              " \n",
              " \n",
              "         [[[[0.9060, 0.4914, 0.8052, 0.5447]],\n",
              " \n",
              "           [[0.9203, 0.2329, 0.4693, 0.7502]]]]]),\n",
              " torch.Size([3, 1, 2, 1, 4]))"
            ]
          },
          "metadata": {},
          "execution_count": 36
        }
      ]
    },
    {
      "cell_type": "code",
      "source": [
        "tensor.squeeze(),tensor.squeeze().shape"
      ],
      "metadata": {
        "colab": {
          "base_uri": "https://localhost:8080/"
        },
        "id": "C5J5-ILOKV4Y",
        "outputId": "58f0f2a1-fce5-43a5-c948-1f869be1f216"
      },
      "execution_count": null,
      "outputs": [
        {
          "output_type": "execute_result",
          "data": {
            "text/plain": [
              "(tensor([[[0.5407, 0.0467, 0.4663, 0.0806],\n",
              "          [0.6251, 0.9482, 0.8743, 0.4152]],\n",
              " \n",
              "         [[0.0847, 0.4324, 0.8931, 0.0145],\n",
              "          [0.3586, 0.2297, 0.1459, 0.2872]],\n",
              " \n",
              "         [[0.9060, 0.4914, 0.8052, 0.5447],\n",
              "          [0.9203, 0.2329, 0.4693, 0.7502]]]),\n",
              " torch.Size([3, 2, 4]))"
            ]
          },
          "metadata": {},
          "execution_count": 37
        }
      ]
    },
    {
      "cell_type": "code",
      "source": [
        "tensor.unsqueeze(dim=2),tensor.unsqueeze(dim=2\n",
        "                                         ).shape"
      ],
      "metadata": {
        "colab": {
          "base_uri": "https://localhost:8080/"
        },
        "id": "B1kUVyKXKf6o",
        "outputId": "2ebbb64c-8ae2-4db1-996b-46988f9d454d"
      },
      "execution_count": null,
      "outputs": [
        {
          "output_type": "execute_result",
          "data": {
            "text/plain": [
              "(tensor([[[[[[0.5407, 0.0467, 0.4663, 0.0806]],\n",
              " \n",
              "            [[0.6251, 0.9482, 0.8743, 0.4152]]]]],\n",
              " \n",
              " \n",
              " \n",
              " \n",
              "         [[[[[0.0847, 0.4324, 0.8931, 0.0145]],\n",
              " \n",
              "            [[0.3586, 0.2297, 0.1459, 0.2872]]]]],\n",
              " \n",
              " \n",
              " \n",
              " \n",
              "         [[[[[0.9060, 0.4914, 0.8052, 0.5447]],\n",
              " \n",
              "            [[0.9203, 0.2329, 0.4693, 0.7502]]]]]]),\n",
              " torch.Size([3, 1, 1, 2, 1, 4]))"
            ]
          },
          "metadata": {},
          "execution_count": 38
        }
      ]
    },
    {
      "cell_type": "code",
      "source": [
        "x_permute=torch.rand(224,224,3)\n",
        "print(x_permute.shape)\n",
        "x_permute=x_permute.permute(2,0,1)\n",
        "print(x_permute.shape)\n",
        "x_permute"
      ],
      "metadata": {
        "colab": {
          "base_uri": "https://localhost:8080/"
        },
        "id": "l1woqIeZKznn",
        "outputId": "079b88ec-8c45-4e05-d8d3-43e0a0e114cf"
      },
      "execution_count": null,
      "outputs": [
        {
          "output_type": "stream",
          "name": "stdout",
          "text": [
            "torch.Size([224, 224, 3])\n",
            "torch.Size([3, 224, 224])\n"
          ]
        },
        {
          "output_type": "execute_result",
          "data": {
            "text/plain": [
              "tensor([[[0.3204, 0.7730, 0.0592,  ..., 0.4746, 0.5585, 0.8245],\n",
              "         [0.1708, 0.8229, 0.1700,  ..., 0.8821, 0.0848, 0.1823],\n",
              "         [0.4890, 0.0098, 0.1958,  ..., 0.8188, 0.7706, 0.0725],\n",
              "         ...,\n",
              "         [0.4046, 0.9104, 0.4757,  ..., 0.9974, 0.0890, 0.8910],\n",
              "         [0.7927, 0.0198, 0.1044,  ..., 0.0924, 0.9305, 0.0498],\n",
              "         [0.5748, 0.5309, 0.0310,  ..., 0.7614, 0.3140, 0.7982]],\n",
              "\n",
              "        [[0.9098, 0.7499, 0.2034,  ..., 0.6923, 0.0061, 0.8089],\n",
              "         [0.8461, 0.0568, 0.1570,  ..., 0.1220, 0.6585, 0.7913],\n",
              "         [0.3846, 0.0453, 0.0305,  ..., 0.5681, 0.9131, 0.8339],\n",
              "         ...,\n",
              "         [0.4904, 0.6328, 0.2000,  ..., 0.1246, 0.9589, 0.3804],\n",
              "         [0.1434, 0.2129, 0.3057,  ..., 0.7801, 0.2191, 0.8737],\n",
              "         [0.8366, 0.0339, 0.2204,  ..., 0.1284, 0.3823, 0.1313]],\n",
              "\n",
              "        [[0.4846, 0.0443, 0.8676,  ..., 0.9932, 0.2465, 0.0946],\n",
              "         [0.4739, 0.3304, 0.5070,  ..., 0.2327, 0.4451, 0.4953],\n",
              "         [0.3868, 0.1509, 0.8907,  ..., 0.0598, 0.3212, 0.3205],\n",
              "         ...,\n",
              "         [0.8234, 0.3345, 0.4920,  ..., 0.3132, 0.6453, 0.3712],\n",
              "         [0.8656, 0.0314, 0.3425,  ..., 0.5226, 0.8262, 0.0622],\n",
              "         [0.2384, 0.5969, 0.8460,  ..., 0.4274, 0.9114, 0.9868]]])"
            ]
          },
          "metadata": {},
          "execution_count": 39
        }
      ]
    },
    {
      "cell_type": "code",
      "source": [],
      "metadata": {
        "id": "AtgBlLcIM9so"
      },
      "execution_count": null,
      "outputs": []
    }
  ]
}