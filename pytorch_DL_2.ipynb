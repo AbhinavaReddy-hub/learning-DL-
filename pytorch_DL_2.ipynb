{
  "nbformat": 4,
  "nbformat_minor": 0,
  "metadata": {
    "colab": {
      "provenance": [],
      "authorship_tag": "ABX9TyNQY3bFKCBTOSEtNTxDlD+e",
      "include_colab_link": true
    },
    "kernelspec": {
      "name": "python3",
      "display_name": "Python 3"
    },
    "language_info": {
      "name": "python"
    }
  },
  "cells": [
    {
      "cell_type": "markdown",
      "metadata": {
        "id": "view-in-github",
        "colab_type": "text"
      },
      "source": [
        "<a href=\"https://colab.research.google.com/github/AbhinavaReddy-hub/learning-DL-/blob/main/pytorch_DL_2.ipynb\" target=\"_parent\"><img src=\"https://colab.research.google.com/assets/colab-badge.svg\" alt=\"Open In Colab\"/></a>"
      ]
    },
    {
      "cell_type": "code",
      "execution_count": null,
      "metadata": {
        "id": "ddRijfEmq1MW"
      },
      "outputs": [],
      "source": [
        "import numpy as np\n",
        "import torch\n",
        "from torch import nn\n",
        "import matplotlib.pyplot as plt\n"
      ]
    },
    {
      "cell_type": "code",
      "source": [
        "weight=0.7\n",
        "bias=0.3\n",
        "\n",
        "start=0\n",
        "end=1\n",
        "step=0.02\n",
        "X=np.arange(start,end,step).reshape(-1,1)\n",
        "y=weight*X+bias\n",
        "\n",
        "X=torch.from_numpy(X).type(torch.float32)\n",
        "y=torch.from_numpy(y).type(torch.float32)\n",
        "\n",
        "train_split=int(0.8*len(X))\n",
        "X_train,y_train=X[:train_split],y[:train_split]\n",
        "X_test,y_test=X[train_split:],y[train_split:]"
      ],
      "metadata": {
        "id": "uK9Sm-jVrJUu"
      },
      "execution_count": null,
      "outputs": []
    },
    {
      "cell_type": "code",
      "source": [
        "class LinearReggresionv2(nn.Module):\n",
        "  def __init__(self):\n",
        "    super(LinearReggresionv2,self).__init__()\n",
        "    self.linear_layer=nn.Linear(in_features=1,out_features=1)\n",
        "  def forward(self,x:torch.Tensor) -> torch.Tensor:\n",
        "    return self.linear_layer(x)\n",
        "torch.manual_seed(42)\n",
        "model_1=LinearReggresionv2()\n",
        "model_1.state_dict()"
      ],
      "metadata": {
        "colab": {
          "base_uri": "https://localhost:8080/"
        },
        "id": "d0H-2ePpryUC",
        "outputId": "8c445688-d047-4ce4-c33d-a04fe5b94c60"
      },
      "execution_count": null,
      "outputs": [
        {
          "output_type": "execute_result",
          "data": {
            "text/plain": [
              "OrderedDict([('linear_layer.weight', tensor([[0.7645]])),\n",
              "             ('linear_layer.bias', tensor([0.8300]))])"
            ]
          },
          "metadata": {},
          "execution_count": 4
        }
      ]
    },
    {
      "cell_type": "markdown",
      "source": [],
      "metadata": {
        "id": "8Hl4GDrxtvuV"
      }
    },
    {
      "cell_type": "code",
      "source": [
        "loss_fn=nn.L1Loss()\n",
        "optimizer=torch.optim.SGD(params=model_1.parameters(),lr=0.01)"
      ],
      "metadata": {
        "id": "6aY_wjh9rzQU"
      },
      "execution_count": null,
      "outputs": []
    },
    {
      "cell_type": "code",
      "source": [
        "torch.manual_seed(42)\n",
        "epochs=100\n",
        "for epoch in range(epochs):\n",
        "  model_1.train()\n",
        "  y_pred=model_1(X_train)\n",
        "  loss=loss_fn(y_pred,y_train)\n",
        "  optimizer.zero_grad()\n",
        "  loss.backward()\n",
        "  optimizer.step()\n",
        "  model_1.eval()\n",
        "  with torch.inference_mode():\n",
        "    test_pred=model_1(X_test)\n",
        "    test_loss=loss_fn(test_pred,y_test)\n",
        "\n",
        "    if epoch%10==0:\n",
        "      print(f\"Epoch: {epoch} | Loss: {loss} | Test Loss: {test_loss}\")"
      ],
      "metadata": {
        "colab": {
          "base_uri": "https://localhost:8080/"
        },
        "id": "GzQCZd61_Las",
        "outputId": "ec8db140-0ab1-4b87-d918-82fe1e377885"
      },
      "execution_count": null,
      "outputs": [
        {
          "output_type": "stream",
          "name": "stdout",
          "text": [
            "Epoch: 0 | Loss: 0.001264506601728499 | Test Loss: 0.013801807537674904\n",
            "Epoch: 10 | Loss: 0.001264506601728499 | Test Loss: 0.013801807537674904\n",
            "Epoch: 20 | Loss: 0.001264506601728499 | Test Loss: 0.013801807537674904\n",
            "Epoch: 30 | Loss: 0.001264506601728499 | Test Loss: 0.013801807537674904\n",
            "Epoch: 40 | Loss: 0.001264506601728499 | Test Loss: 0.013801807537674904\n",
            "Epoch: 50 | Loss: 0.001264506601728499 | Test Loss: 0.013801807537674904\n",
            "Epoch: 60 | Loss: 0.001264506601728499 | Test Loss: 0.013801807537674904\n",
            "Epoch: 70 | Loss: 0.001264506601728499 | Test Loss: 0.013801807537674904\n",
            "Epoch: 80 | Loss: 0.001264506601728499 | Test Loss: 0.013801807537674904\n",
            "Epoch: 90 | Loss: 0.001264506601728499 | Test Loss: 0.013801807537674904\n"
          ]
        }
      ]
    },
    {
      "cell_type": "code",
      "source": [],
      "metadata": {
        "id": "7snzQe_aAr4z"
      },
      "execution_count": null,
      "outputs": []
    }
  ]
}