{
 "cells": [
  {
   "cell_type": "code",
   "execution_count": 17,
   "id": "c67da59b-a287-40d0-89f3-097147553c14",
   "metadata": {},
   "outputs": [],
   "source": [
    "import numpy as np\n",
    "import pandas as pd\n",
    "import torch\n",
    "import torch.nn as nn\n",
    "import torch.optim as optim\n",
    "import matplotlib.pyplot as plt\n",
    "import sklearn\n",
    "from sklearn.preprocessing import MinMaxScaler"
   ]
  },
  {
   "cell_type": "code",
   "execution_count": 55,
   "id": "c45f4085-ddc8-407a-b826-4d522bde42e0",
   "metadata": {},
   "outputs": [],
   "source": [
    "time_space=np.linspace(0,100,1000)\n",
    "ecg_signal=np.sin(time_space)+np.random.normal(scale=0.1,size=1000)\n",
    "df=pd.DataFrame({'ECG':ecg_signal})"
   ]
  },
  {
   "cell_type": "code",
   "execution_count": 54,
   "id": "45ecd675-12d2-44c5-beab-6b2bc51efb3c",
   "metadata": {},
   "outputs": [
    {
     "name": "stdout",
     "output_type": "stream",
     "text": [
      "torch.Size([980, 20, 1]) torch.Size([980, 1])\n"
     ]
    }
   ],
   "source": [
    "sequence_length=20\n",
    "def create_sequences(data,sequence_length):\n",
    "    sequences=[]\n",
    "    targets=[]\n",
    "    for i in range(len(data)-sequence_length):\n",
    "        sequence=data[i:i+sequence_length]\n",
    "        target=data[i+sequence_length]\n",
    "        sequences.append(sequence)\n",
    "        targets.append(target)\n",
    "    return np.array(sequences),np.array(targets)\n",
    "sequences,targets=create_sequences(df['ECG'].values,sequence_length)\n",
    "X=torch.tensor(sequences,dtype=torch.float32).unsqueeze(-1)\n",
    "y=torch.tensor(targets,dtype=torch.float32).unsqueeze(-1)\n",
    "print(X.shape,y.shape)"
   ]
  },
  {
   "cell_type": "code",
   "execution_count": 64,
   "id": "41b3c44c-7799-49f1-b4ff-4fd93b9d8755",
   "metadata": {},
   "outputs": [
    {
     "name": "stdout",
     "output_type": "stream",
     "text": [
      "RNNModel(\n",
      "  (rnn): RNN(1, 64, num_layers=2, batch_first=True)\n",
      "  (fc): Linear(in_features=64, out_features=1, bias=True)\n",
      ")\n"
     ]
    }
   ],
   "source": [
    "class RNNModel(nn.Module):\n",
    "    def __init__(self,input_size=1,hidden_size=64,num_layers=2):\n",
    "        super(RNNModel,self).__init__()\n",
    "        self.rnn=nn.RNN(input_size,hidden_size,num_layers,batch_first=True)\n",
    "        self.fc=nn.Linear(hidden_size,1)\n",
    "    def forward(self,x):\n",
    "        rnn_out,_=self.rnn(x)\n",
    "        output=self.fc(rnn_out[:,-1,:])\n",
    "        return output\n",
    "model=RNNModel()\n",
    "print(model)"
   ]
  },
  {
   "cell_type": "code",
   "execution_count": 68,
   "id": "7cfde5b5-0021-434c-9115-b4e081f74f38",
   "metadata": {},
   "outputs": [
    {
     "name": "stdout",
     "output_type": "stream",
     "text": [
      "10 0.026969023048877716\n",
      "20 0.015439685434103012\n",
      "30 0.012836609967052937\n",
      "40 0.012370340526103973\n",
      "50 0.011758217588067055\n"
     ]
    }
   ],
   "source": [
    "criteraion =nn.MSELoss()\n",
    "optimizer=optim.Adam(model.parameters(),lr=0.001)\n",
    "epochs=50\n",
    "for epoch in range(epochs):\n",
    "    model.train()\n",
    "    optimizer.zero_grad()\n",
    "    outputs=model(X)\n",
    "    loss=criteraion(outputs,y)\n",
    "    loss.backward()\n",
    "    optimizer.step()\n",
    "    if((epoch+1)%10)==0:\n",
    "        print(epoch+1, loss.item())"
   ]
  },
  {
   "cell_type": "code",
   "execution_count": 75,
   "id": "46f934c1-2886-4223-bcff-0a647aaee406",
   "metadata": {},
   "outputs": [
    {
     "name": "stdout",
     "output_type": "stream",
     "text": [
      "tensor([[[-0.5386],\n",
      "         [-0.5041],\n",
      "         [-0.5947],\n",
      "         [-0.7555],\n",
      "         [-0.9127],\n",
      "         [-0.8045],\n",
      "         [-1.0462],\n",
      "         [-0.8447],\n",
      "         [-1.0489],\n",
      "         [-0.8571],\n",
      "         [-0.7741],\n",
      "         [-0.7616],\n",
      "         [-1.1112],\n",
      "         [-1.0200],\n",
      "         [-0.9744],\n",
      "         [-0.7306],\n",
      "         [-0.6324],\n",
      "         [-0.7331],\n",
      "         [-0.8680],\n",
      "         [-0.5309]]])\n",
      "1 -0.5158066749572754\n",
      "2 -0.4180980324745178\n",
      "3 -0.3667689561843872\n",
      "4 -0.2727890610694885\n",
      "5 -0.1389951854944229\n",
      "6 -0.055965691804885864\n",
      "7 0.036437779664993286\n",
      "8 0.15855278074741364\n",
      "9 0.25879406929016113\n",
      "10 0.35560595989227295\n",
      "11 0.45310914516448975\n",
      "12 0.543912947177887\n",
      "13 0.6281811594963074\n",
      "14 0.7026522755622864\n",
      "15 0.769114077091217\n",
      "16 0.8289405703544617\n",
      "17 0.8791115283966064\n",
      "18 0.9199994802474976\n",
      "19 0.952786922454834\n",
      "20 0.9766440391540527\n",
      "21 0.991509199142456\n",
      "22 0.9988029599189758\n",
      "23 0.997380793094635\n",
      "24 0.9867123961448669\n",
      "25 0.966997504234314\n",
      "26 0.9379997253417969\n",
      "27 0.8996660113334656\n",
      "28 0.8522401452064514\n",
      "29 0.7966192364692688\n",
      "30 0.7335705161094666\n",
      "31 0.663538932800293\n",
      "32 0.586986243724823\n",
      "33 0.5045079588890076\n",
      "34 0.4166380763053894\n",
      "35 0.3239319920539856\n",
      "36 0.2271941751241684\n",
      "37 0.12738312780857086\n",
      "38 0.02549096569418907\n",
      "39 -0.07745438814163208\n",
      "40 -0.18040068447589874\n",
      "41 -0.28229302167892456\n",
      "42 -0.38208264112472534\n",
      "43 -0.4786721467971802\n",
      "44 -0.5708497762680054\n",
      "45 -0.6572927832603455\n",
      "46 -0.7366315722465515\n",
      "47 -0.8075641989707947\n",
      "48 -0.8690096139907837\n",
      "49 -0.9202231764793396\n",
      "50 -0.9608235955238342\n"
     ]
    }
   ],
   "source": [
    "model.eval()\n",
    "with torch.no_grad():\n",
    "    test_seq=X[-1].unsqueeze(0)\n",
    "    print(test_seq)\n",
    "    preditions=[]\n",
    "    for i in range(50):\n",
    "        pred=model(test_seq)\n",
    "        preditions.append(pred.item())\n",
    "        print(i+1,pred.item())\n",
    "        pred=pred.unsqueeze(-1)\n",
    "        test_seq=torch.cat((test_seq[:,1:,:],pred),dim=1)"
   ]
  },
  {
   "cell_type": "code",
   "execution_count": null,
   "id": "096e5038-7c58-4ea4-ac64-50186239dd2b",
   "metadata": {},
   "outputs": [],
   "source": []
  },
  {
   "cell_type": "code",
   "execution_count": null,
   "id": "e942a71c-5606-4a7e-8225-5f7e18fa0197",
   "metadata": {},
   "outputs": [],
   "source": []
  },
  {
   "cell_type": "code",
   "execution_count": null,
   "id": "c3e9d06b-7d87-4fe2-9f83-8e4a6f25397a",
   "metadata": {},
   "outputs": [],
   "source": []
  }
 ],
 "metadata": {
  "kernelspec": {
   "display_name": "Python 3 (ipykernel)",
   "language": "python",
   "name": "python3"
  },
  "language_info": {
   "codemirror_mode": {
    "name": "ipython",
    "version": 3
   },
   "file_extension": ".py",
   "mimetype": "text/x-python",
   "name": "python",
   "nbconvert_exporter": "python",
   "pygments_lexer": "ipython3",
   "version": "3.12.2"
  }
 },
 "nbformat": 4,
 "nbformat_minor": 5
}
