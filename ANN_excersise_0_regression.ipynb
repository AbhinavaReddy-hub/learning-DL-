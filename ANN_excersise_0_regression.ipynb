{
 "cells": [
  {
   "cell_type": "code",
   "execution_count": 48,
   "id": "cbd33dba-3f93-4acf-8695-eeeafcad920b",
   "metadata": {},
   "outputs": [],
   "source": [
    "import numpy as np \n",
    "import pandas as pd\n",
    "import torch\n",
    "import torch.nn as nn\n",
    "from torch import optim\n"
   ]
  },
  {
   "cell_type": "code",
   "execution_count": 70,
   "id": "2e6e9ba0-92ce-461a-83da-5b8892f166a9",
   "metadata": {},
   "outputs": [
    {
     "name": "stdout",
     "output_type": "stream",
     "text": [
      "torch.Size([4, 3]) torch.Size([4, 1])\n",
      "tensor([[2.0000e+03, 3.0000e+00, 2.0000e+00],\n",
      "        [1.5000e+03, 2.0000e+00, 1.0000e+00],\n",
      "        [1.8000e+03, 3.0000e+00, 2.0000e+00],\n",
      "        [2.2000e+03, 4.0000e+00, 3.0000e+00]]) tensor([[300000.],\n",
      "        [250000.],\n",
      "        [280000.],\n",
      "        [350000.]])\n"
     ]
    }
   ],
   "source": [
    "X = torch.tensor([[2000, 3, 2], [1500, 2, 1], [1800, 3, 2], [2200, 4, 3]], dtype=torch.float32)\n",
    "y = torch.tensor([[300000], [250000], [280000], [350000]], dtype=torch.float32)\n",
    "print(X.shape,y.shape)\n",
    "print(X,y)"
   ]
  },
  {
   "cell_type": "code",
   "execution_count": 71,
   "id": "08460d70-b949-46b2-ad94-cdfbbe0a67e5",
   "metadata": {},
   "outputs": [],
   "source": [
    "class HousePriceNN(nn.Module):\n",
    "    def __init__(self):\n",
    "        super(HousePriceNN,self).__init__()\n",
    "        self.fc1=nn.Linear(3,5)\n",
    "        self.fc2=nn.Linear(5,1)\n",
    "        self.relu=nn.ReLU()\n",
    "    def forward(self,x):\n",
    "        x=self.fc1(x)\n",
    "        # print(\"input trough fc1 \",x.shape,x)\n",
    "        x=self.relu(x)\n",
    "        # print(\"fc1 trough relu \",x.shape,x)\n",
    "        x=self.fc2(x)\n",
    "        # print(\"ouput of relu trough fc2\",x.shape,x)\n",
    "        return x\n",
    "    "
   ]
  },
  {
   "cell_type": "code",
   "execution_count": 72,
   "id": "da98e748-5d18-4c74-8687-83deaa5acecb",
   "metadata": {},
   "outputs": [],
   "source": [
    "model=HousePriceNN()\n",
    "criterion=nn.MSELoss()\n",
    "optimizer=optim.SGD(model.parameters(),lr=0.1)"
   ]
  },
  {
   "cell_type": "code",
   "execution_count": 73,
   "id": "9897f1c4-2b68-4eb3-ba9b-f054d55dfdc5",
   "metadata": {},
   "outputs": [
    {
     "name": "stdout",
     "output_type": "stream",
     "text": [
      "0 , Loss:88377114624.0\n",
      "10 , Loss:6.49621600706402e+33\n",
      "20 , Loss:7.489626698187202e+31\n",
      "30 , Loss:8.634952139357725e+29\n",
      "40 , Loss:9.955426205479504e+27\n",
      "50 , Loss:1.1477825184090726e+26\n",
      "60 , Loss:1.3233029827462203e+24\n",
      "70 , Loss:1.525664066975989e+22\n",
      "80 , Loss:1.758971082383955e+20\n",
      "90 , Loss:2.0279551891886572e+18\n",
      "100 , Loss:2.3380732512567296e+16\n",
      "110 , Loss:269562750697472.0\n",
      "120 , Loss:3109156290560.0\n",
      "130 , Loss:37155852288.0\n",
      "140 , Loss:1738101888.0\n",
      "150 , Loss:1329762560.0\n",
      "160 , Loss:1325054976.0\n",
      "170 , Loss:1325000704.0\n",
      "180 , Loss:1324999936.0\n",
      "190 , Loss:1324999936.0\n",
      "200 , Loss:1324999936.0\n",
      "210 , Loss:1324999936.0\n",
      "220 , Loss:1324999936.0\n",
      "230 , Loss:1324999936.0\n",
      "240 , Loss:1324999936.0\n",
      "250 , Loss:1324999936.0\n",
      "260 , Loss:1324999936.0\n",
      "270 , Loss:1324999936.0\n",
      "280 , Loss:1324999936.0\n",
      "290 , Loss:1324999936.0\n",
      "300 , Loss:1324999936.0\n",
      "310 , Loss:1324999936.0\n",
      "320 , Loss:1324999936.0\n",
      "330 , Loss:1324999936.0\n",
      "340 , Loss:1324999936.0\n",
      "350 , Loss:1324999936.0\n",
      "360 , Loss:1324999936.0\n",
      "370 , Loss:1324999936.0\n",
      "380 , Loss:1324999936.0\n",
      "390 , Loss:1324999936.0\n",
      "400 , Loss:1324999936.0\n",
      "410 , Loss:1324999936.0\n",
      "420 , Loss:1324999936.0\n",
      "430 , Loss:1324999936.0\n",
      "440 , Loss:1324999936.0\n",
      "450 , Loss:1324999936.0\n",
      "460 , Loss:1324999936.0\n",
      "470 , Loss:1324999936.0\n",
      "480 , Loss:1324999936.0\n",
      "490 , Loss:1324999936.0\n",
      "500 , Loss:1324999936.0\n",
      "510 , Loss:1324999936.0\n",
      "520 , Loss:1324999936.0\n",
      "530 , Loss:1324999936.0\n",
      "540 , Loss:1324999936.0\n",
      "550 , Loss:1324999936.0\n",
      "560 , Loss:1324999936.0\n",
      "570 , Loss:1324999936.0\n",
      "580 , Loss:1324999936.0\n",
      "590 , Loss:1324999936.0\n",
      "600 , Loss:1324999936.0\n",
      "610 , Loss:1324999936.0\n",
      "620 , Loss:1324999936.0\n",
      "630 , Loss:1324999936.0\n",
      "640 , Loss:1324999936.0\n",
      "650 , Loss:1324999936.0\n",
      "660 , Loss:1324999936.0\n",
      "670 , Loss:1324999936.0\n",
      "680 , Loss:1324999936.0\n",
      "690 , Loss:1324999936.0\n",
      "700 , Loss:1324999936.0\n",
      "710 , Loss:1324999936.0\n",
      "720 , Loss:1324999936.0\n",
      "730 , Loss:1324999936.0\n",
      "740 , Loss:1324999936.0\n",
      "750 , Loss:1324999936.0\n",
      "760 , Loss:1324999936.0\n",
      "770 , Loss:1324999936.0\n",
      "780 , Loss:1324999936.0\n",
      "790 , Loss:1324999936.0\n",
      "800 , Loss:1324999936.0\n",
      "810 , Loss:1324999936.0\n",
      "820 , Loss:1324999936.0\n",
      "830 , Loss:1324999936.0\n",
      "840 , Loss:1324999936.0\n",
      "850 , Loss:1324999936.0\n",
      "860 , Loss:1324999936.0\n",
      "870 , Loss:1324999936.0\n",
      "880 , Loss:1324999936.0\n",
      "890 , Loss:1324999936.0\n",
      "900 , Loss:1324999936.0\n",
      "910 , Loss:1324999936.0\n",
      "920 , Loss:1324999936.0\n",
      "930 , Loss:1324999936.0\n",
      "940 , Loss:1324999936.0\n",
      "950 , Loss:1324999936.0\n",
      "960 , Loss:1324999936.0\n",
      "970 , Loss:1324999936.0\n",
      "980 , Loss:1324999936.0\n",
      "990 , Loss:1324999936.0\n",
      "prediction tensor([[294999.9375]], grad_fn=<AddmmBackward0>)\n"
     ]
    }
   ],
   "source": [
    "epochs=1000\n",
    "for epoch in range(epochs):\n",
    "    model.train()\n",
    "    optimizer.zero_grad()\n",
    "    predictions=model(X)\n",
    "    loss=criterion(predictions,y)\n",
    "    loss.backward()\n",
    "    optimizer.step()\n",
    "    if(epoch%10==0):\n",
    "        print(f\"{epoch} , Loss:{loss}\")\n",
    "model.eval()\n",
    "predicted_price=model(torch.tensor([[2100,3,2]],dtype=torch.float32))\n",
    "print(\"prediction\",predicted_price)"
   ]
  },
  {
   "cell_type": "code",
   "execution_count": null,
   "id": "87696eb7-2b22-4f66-b5e2-f25a3ce61fc9",
   "metadata": {},
   "outputs": [],
   "source": [
    "the loss is large because the data is very less*"
   ]
  },
  {
   "cell_type": "code",
   "execution_count": null,
   "id": "18de8307-a31a-4779-a33e-4ef8e364225c",
   "metadata": {},
   "outputs": [],
   "source": []
  },
  {
   "cell_type": "code",
   "execution_count": null,
   "id": "44df2822-dd3e-4022-b261-5ac3fa7679ef",
   "metadata": {},
   "outputs": [],
   "source": []
  }
 ],
 "metadata": {
  "kernelspec": {
   "display_name": "Python 3 (ipykernel)",
   "language": "python",
   "name": "python3"
  },
  "language_info": {
   "codemirror_mode": {
    "name": "ipython",
    "version": 3
   },
   "file_extension": ".py",
   "mimetype": "text/x-python",
   "name": "python",
   "nbconvert_exporter": "python",
   "pygments_lexer": "ipython3",
   "version": "3.12.2"
  }
 },
 "nbformat": 4,
 "nbformat_minor": 5
}
